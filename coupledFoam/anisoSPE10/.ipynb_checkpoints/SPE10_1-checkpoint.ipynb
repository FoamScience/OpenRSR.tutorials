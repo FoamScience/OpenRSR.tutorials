{
 "cells": [
  {
   "cell_type": "markdown",
   "metadata": {
    "pyFoam": {
     "classes": [
      "heading"
     ]
    }
   },
   "source": [
    "# Imports and administrative stuff"
   ]
  },
  {
   "cell_type": "markdown",
   "metadata": {
    "pyFoam": {
     "classes": [
      "comment"
     ]
    }
   },
   "source": [
    "Make sure that plots are inlined"
   ]
  },
  {
   "cell_type": "code",
   "execution_count": 2,
   "metadata": {},
   "outputs": [],
   "source": [
    "%matplotlib inline"
   ]
  },
  {
   "cell_type": "markdown",
   "metadata": {
    "pyFoam": {
     "classes": [
      "heading",
      "additional"
     ]
    }
   },
   "source": [
    "## Additional imports for convenience"
   ]
  },
  {
   "cell_type": "markdown",
   "metadata": {
    "pyFoam": {
     "classes": [
      "comment",
      "additional"
     ]
    }
   },
   "source": [
    "Allow panning and zooming in plots. Slower than regular plotting so for big data you might want to use `mpld3.disable_notebook()` and erase this cell."
   ]
  },
  {
   "cell_type": "code",
   "execution_count": 3,
   "metadata": {
    "pyFoam": {
     "classes": [
      "additional"
     ]
    }
   },
   "outputs": [
    {
     "ename": "SyntaxError",
     "evalue": "Missing parentheses in call to 'print' (<ipython-input-3-8339f3e73477>, line 5)",
     "output_type": "error",
     "traceback": [
      "\u001b[0;36m  File \u001b[0;32m\"<ipython-input-3-8339f3e73477>\"\u001b[0;36m, line \u001b[0;32m5\u001b[0m\n\u001b[0;31m    print 'No mpld3-library. No interactive plots'\u001b[0m\n\u001b[0m                                                 ^\u001b[0m\n\u001b[0;31mSyntaxError\u001b[0m\u001b[0;31m:\u001b[0m Missing parentheses in call to 'print'\n"
     ]
    }
   ],
   "source": [
    "try:\n",
    "    import mpld3\n",
    "    mpld3.enable_notebook()\n",
    "except ImportError:\n",
    "    print 'No mpld3-library. No interactive plots'"
   ]
  },
  {
   "cell_type": "markdown",
   "metadata": {},
   "source": [
    "Uncomment this code to change the size of the plots"
   ]
  },
  {
   "cell_type": "code",
   "execution_count": 4,
   "metadata": {},
   "outputs": [],
   "source": [
    "# import matplotlib.pylab as pylab\n",
    "# pylab.rcParams[\"figure.figsize\"]=(12,8)"
   ]
  },
  {
   "cell_type": "markdown",
   "metadata": {
    "pyFoam": {
     "classes": [
      "comment",
      "additional"
     ]
    }
   },
   "source": [
    "Wrapper with additional functionality to the regular Pandas-`DataFrame`:\n",
    "\n",
    "* `addData()` for adding columns from other data sets (with resampling\n",
    "* `integrals()` and `weightedAverage()`. Also extended `descripe()` that returns this data\n",
    "\n",
    "Most Pandas-operations (like slicing) will return a Pandas-`DataFrame`. By enclosing this in `DataFrame(...)` you can 'add' this functionality to your data. PyFoam operations return this extended  `DataFrame` automatically"
   ]
  },
  {
   "cell_type": "code",
   "execution_count": 5,
   "metadata": {
    "pyFoam": {
     "classes": [
      "additional"
     ]
    }
   },
   "outputs": [],
   "source": [
    "from PyFoam.Wrappers.Pandas import PyFoamDataFrame as DataFrame"
   ]
  },
  {
   "cell_type": "markdown",
   "metadata": {
    "pyFoam": {
     "classes": [
      "heading"
     ]
    }
   },
   "source": [
    "## Data storage"
   ]
  },
  {
   "cell_type": "markdown",
   "metadata": {
    "pyFoam": {
     "classes": [
      "comment"
     ]
    }
   },
   "source": [
    "This is the support for permanently storing data into the notebook"
   ]
  },
  {
   "cell_type": "code",
   "execution_count": 6,
   "metadata": {},
   "outputs": [],
   "source": [
    "from PyFoam.IPythonHelpers import storage"
   ]
  },
  {
   "cell_type": "markdown",
   "metadata": {
    "pyFoam": {
     "classes": [
      "comment"
     ]
    }
   },
   "source": [
    "Due to technical problems the next line has to be executed 'by hand' (it will not work poperly if called from `Run All` or similar). When reopening the page the JavaScript-error is normal (it will go away once the cell is executed). Reading can take some time and the next command will appear to 'hang'"
   ]
  },
  {
   "cell_type": "code",
   "execution_count": 7,
   "metadata": {},
   "outputs": [
    {
     "data": {
      "application/javascript": [
       "\n",
       "    function handle_output(out){\n",
       "        console.log(out);\n",
       "        var res = null;\n",
       "         // if output is a print statement\n",
       "        if(out.msg_type == \"stream\"){\n",
       "            res = out.content.data;\n",
       "        }\n",
       "        // if output is a python object\n",
       "        else if(out.msg_type === \"pyout\"){\n",
       "            res = out.content.data[\"text/plain\"];\n",
       "        }\n",
       "        // if output is a python error\n",
       "        else if(out.msg_type == \"pyerr\"){\n",
       "            res = out.content.ename + \": \" + out.content.evalue;\n",
       "        }\n",
       "        // if output is something we haven't thought of\n",
       "        else{\n",
       "            res = \"[out type not implemented]\";\n",
       "        }\n",
       "        console.log(res);\n",
       "    }\n",
       "    var callbacks =  {'iopub' : {'output' : handle_output}};\n",
       "    \n",
       "function ensurePyFoamStorage() {\n",
       "  if (typeof IPython ==\"undefined\") {\n",
       "      alert(\"Trying to use PyFoam.IPythonHelpers.PermanentStorage outside of IPython\");\n",
       "      return;\n",
       "  } else if(IPython.notebook==undefined) {\n",
       "      alert(\"Trying to use PyFoam.IPythonHelpers.PermanentStorage outside of an IPython-notebook\");\n",
       "      return;\n",
       "  } else if(IPython.notebook.metadata.pyFoam==undefined) {\n",
       "      IPython.notebook.metadata.pyFoam=Object();\n",
       "      console.log(\"IPython.notebook.metadata.pyFoam created\");\n",
       "  } else {\n",
       "      console.log(\"IPython.notebook.metadata.pyFoam found\");\n",
       "  }\n",
       "  if(IPython.notebook.metadata.pyFoam.storedData==undefined) {\n",
       "      IPython.notebook.metadata.pyFoam.storedData=Object();\n",
       "      console.log(\"IPython.notebook.metadata.pyFoam.storedData created\");\n",
       "  } else {\n",
       "      console.log(\"IPython.notebook.metadata.pyFoam.storedData found\");\n",
       "  }\n",
       "\n",
       "  var store=IPython.notebook.metadata.pyFoam.storedData;\n",
       "  var expr=\"from PyFoam.IPythonHelpers.PermanentStorage import PermanentStorage as perm\\nperm._data={}\";\n",
       "  status=\"Starting transfer\";\n",
       "  var kernel=IPython.notebook.kernel;\n",
       "  kernel.execute(expr, callbacks, {silent:false});\n",
       "  for(var k in store) {\n",
       "      var totalLen=store[k].length;\n",
       "      console.log(\"Found stored \"+k+\" Length: \"+totalLen);\n",
       "//      expr+=\"'\"+k+\"' : '\"+store[k]+\"' ,\";\n",
       "      var chunk=400; // seems to be the best compromise\n",
       "      var nChunks=(totalLen/chunk|0)+1;\n",
       "      for(var i=0;i<nChunks;i++) {\n",
       "          status=\"chunk \"+(i+1)+\" of \"+nChunks+\" of \"+k;\n",
       "          var value = store[k].substring(i*chunk,(i+1)*chunk);\n",
       "          var command =\"perm._data['\"+k+\"']\";\n",
       "          if(i>0) {\n",
       "            command+=\"+=\";\n",
       "          } else {\n",
       "            command+=\"=\";\n",
       "          }\n",
       "          command += \"'\"+value+\"'\";\n",
       "          kernel.execute(command);\n",
       "      }\n",
       "  }\n",
       "  status=\"Starting transfer (this can take some time)\";\n",
       "  console.log(\"Execution of python done\");\n",
       "}\n",
       "ensurePyFoamStorage();\n",
       "                       "
      ],
      "text/plain": [
       "<IPython.core.display.Javascript object>"
      ]
     },
     "metadata": {},
     "output_type": "display_data"
    },
    {
     "data": {
      "application/javascript": [
       "status=\"Storage status: Autowrite: False Autoread: True\""
      ],
      "text/plain": [
       "<IPython.core.display.Javascript object>"
      ]
     },
     "metadata": {},
     "output_type": "display_data"
    }
   ],
   "source": [
    "store=storage()"
   ]
  },
  {
   "cell_type": "markdown",
   "metadata": {
    "pyFoam": {
     "classes": [
      "comment"
     ]
    }
   },
   "source": [
    "The next line switches on the behaviour that items specified with `store(name,func)` will be stored permanently in the notebook. Uncomment if you want this behaviour"
   ]
  },
  {
   "cell_type": "code",
   "execution_count": 8,
   "metadata": {},
   "outputs": [],
   "source": [
    "# store.autowriteOn()"
   ]
  },
  {
   "cell_type": "markdown",
   "metadata": {
    "pyFoam": {
     "classes": [
      "comment"
     ]
    }
   },
   "source": [
    "The next line switches off the default behaviour that for items specified with `store(name,func)` if `name` is already specified in the permant storage this value is used and `func` is ignored"
   ]
  },
  {
   "cell_type": "code",
   "execution_count": 9,
   "metadata": {},
   "outputs": [],
   "source": [
    "# store.autoreadOff()"
   ]
  },
  {
   "cell_type": "markdown",
   "metadata": {
    "pyFoam": {
     "classes": [
      "heading"
     ]
    }
   },
   "source": [
    "## Case data"
   ]
  },
  {
   "cell_type": "markdown",
   "metadata": {
    "pyFoam": {
     "classes": [
      "comment"
     ]
    }
   },
   "source": [
    "This class makes it easy to access case data. Use tab-completion for available methods"
   ]
  },
  {
   "cell_type": "code",
   "execution_count": 11,
   "metadata": {},
   "outputs": [],
   "source": [
    "from PyFoam.IPythonHelpers.Case import Case"
   ]
  },
  {
   "cell_type": "markdown",
   "metadata": {
    "pyFoam": {
     "classes": [
      "heading"
     ]
    }
   },
   "source": [
    "# The Case"
   ]
  },
  {
   "cell_type": "code",
   "execution_count": 12,
   "metadata": {
    "pyFoam": {
     "casePath": "/home/elwardi/MasterThesis/reservoir-simulator/tutorials/coupledFoam/SPE10_1",
     "caseVar": "case",
     "classes": [
      "case"
     ],
     "usedDirectory": "/home/elwardi/MasterThesis/reservoir-simulator/tutorials/coupledFoam/SPE10_1"
    }
   },
   "outputs": [],
   "source": [
    "case=Case('/home/elwardi/MasterThesis/reservoir-simulator/tutorials/coupledFoam/SPE10_1')"
   ]
  },
  {
   "cell_type": "markdown",
   "metadata": {
    "pyFoam": {
     "classes": [
      "report",
      "heading"
     ]
    }
   },
   "source": [
    "## Case Report"
   ]
  },
  {
   "cell_type": "code",
   "execution_count": 14,
   "metadata": {
    "pyFoam": {
     "classes": [
      "report"
     ]
    }
   },
   "outputs": [
    {
     "ename": "TypeError",
     "evalue": "'map' object is not subscriptable",
     "output_type": "error",
     "traceback": [
      "\u001b[0;31m---------------------------------------------------------------------------\u001b[0m",
      "\u001b[0;31mTypeError\u001b[0m                                 Traceback (most recent call last)",
      "\u001b[0;32m<ipython-input-14-a0efaa5ab4af>\u001b[0m in \u001b[0;36m<module>\u001b[0;34m\u001b[0m\n\u001b[0;32m----> 1\u001b[0;31m \u001b[0mcase\u001b[0m\u001b[0;34m.\u001b[0m\u001b[0msize\u001b[0m\u001b[0;34m(\u001b[0m\u001b[0mlevel\u001b[0m\u001b[0;34m=\u001b[0m\u001b[0;36m3\u001b[0m\u001b[0;34m)\u001b[0m\u001b[0;34m\u001b[0m\u001b[0m\n\u001b[0m",
      "\u001b[0;32m/opt/foam/foam-extend-4.0/ThirdParty/packages/PyFoam-0.6.4/platforms/noarch/lib/python2.7/site-packages/PyFoam/IPythonHelpers/Case.py\u001b[0m in \u001b[0;36msize\u001b[0;34m(self, region, **kwargs)\u001b[0m\n\u001b[1;32m     80\u001b[0m         return self.__callCaseReport(region=region,\n\u001b[1;32m     81\u001b[0m                                      \u001b[0mcaseSize\u001b[0m\u001b[0;34m=\u001b[0m\u001b[0;32mTrue\u001b[0m\u001b[0;34m,\u001b[0m\u001b[0;34m\u001b[0m\u001b[0m\n\u001b[0;32m---> 82\u001b[0;31m                                      **kwargs)\n\u001b[0m\u001b[1;32m     83\u001b[0m \u001b[0;34m\u001b[0m\u001b[0m\n\u001b[1;32m     84\u001b[0m     \u001b[0;32mdef\u001b[0m \u001b[0mboundaryConditions\u001b[0m\u001b[0;34m(\u001b[0m\u001b[0mself\u001b[0m\u001b[0;34m,\u001b[0m\u001b[0mregion\u001b[0m\u001b[0;34m=\u001b[0m\u001b[0;32mNone\u001b[0m\u001b[0;34m,\u001b[0m\u001b[0;34m**\u001b[0m\u001b[0mkwargs\u001b[0m\u001b[0;34m)\u001b[0m\u001b[0;34m:\u001b[0m\u001b[0;34m\u001b[0m\u001b[0m\n",
      "\u001b[0;32m/opt/foam/foam-extend-4.0/ThirdParty/packages/PyFoam-0.6.4/platforms/noarch/lib/python2.7/site-packages/PyFoam/IPythonHelpers/Case.py\u001b[0m in \u001b[0;36m__callCaseReport\u001b[0;34m(self, region, level, **kwargs)\u001b[0m\n\u001b[1;32m     69\u001b[0m                    \u001b[0mfile\u001b[0m\u001b[0;34m=\u001b[0m\u001b[0ms\u001b[0m\u001b[0;34m,\u001b[0m\u001b[0;34m\u001b[0m\u001b[0m\n\u001b[1;32m     70\u001b[0m                    \u001b[0mheadingLevel\u001b[0m\u001b[0;34m=\u001b[0m\u001b[0mlevel\u001b[0m\u001b[0;34m,\u001b[0m\u001b[0;34m\u001b[0m\u001b[0m\n\u001b[0;32m---> 71\u001b[0;31m                    **kwargs)\n\u001b[0m\u001b[1;32m     72\u001b[0m         return HTML(publish_parts(s.getvalue(),\n\u001b[1;32m     73\u001b[0m                                   \u001b[0mwriter_name\u001b[0m\u001b[0;34m=\u001b[0m\u001b[0;34m'html'\u001b[0m\u001b[0;34m,\u001b[0m\u001b[0;34m\u001b[0m\u001b[0m\n",
      "\u001b[0;32m/opt/foam/foam-extend-4.0/ThirdParty/packages/PyFoam-0.6.4/platforms/noarch/lib/python2.7/site-packages/PyFoam/Applications/CaseReport.py\u001b[0m in \u001b[0;36m__init__\u001b[0;34m(self, args, **kwargs)\u001b[0m\n\u001b[1;32m     45\u001b[0m                                    \u001b[0mchangeVersion\u001b[0m\u001b[0;34m=\u001b[0m\u001b[0;32mFalse\u001b[0m\u001b[0;34m,\u001b[0m\u001b[0;34m\u001b[0m\u001b[0m\n\u001b[1;32m     46\u001b[0m                                    \u001b[0minterspersed\u001b[0m\u001b[0;34m=\u001b[0m\u001b[0;32mTrue\u001b[0m\u001b[0;34m,\u001b[0m\u001b[0;34m\u001b[0m\u001b[0m\n\u001b[0;32m---> 47\u001b[0;31m                                    **kwargs)\n\u001b[0m\u001b[1;32m     48\u001b[0m \u001b[0;34m\u001b[0m\u001b[0m\n\u001b[1;32m     49\u001b[0m     \u001b[0;32mdef\u001b[0m \u001b[0maddOptions\u001b[0m\u001b[0;34m(\u001b[0m\u001b[0mself\u001b[0m\u001b[0;34m)\u001b[0m\u001b[0;34m:\u001b[0m\u001b[0;34m\u001b[0m\u001b[0m\n",
      "\u001b[0;32m/opt/foam/foam-extend-4.0/ThirdParty/packages/PyFoam-0.6.4/platforms/noarch/lib/python2.7/site-packages/PyFoam/Applications/PyFoamApplication.py\u001b[0m in \u001b[0;36m__init__\u001b[0;34m(self, args, description, epilog, examples, usage, interspersed, nr, changeVersion, exactNr, subcommands, inputApp, **kwArgs)\u001b[0m\n\u001b[1;32m    272\u001b[0m \u001b[0;34m\u001b[0m\u001b[0m\n\u001b[1;32m    273\u001b[0m         \u001b[0mself\u001b[0m\u001b[0;34m.\u001b[0m\u001b[0maddOptions\u001b[0m\u001b[0;34m(\u001b[0m\u001b[0;34m)\u001b[0m\u001b[0;34m\u001b[0m\u001b[0m\n\u001b[0;32m--> 274\u001b[0;31m         \u001b[0mself\u001b[0m\u001b[0;34m.\u001b[0m\u001b[0mparser\u001b[0m\u001b[0;34m.\u001b[0m\u001b[0mparse\u001b[0m\u001b[0;34m(\u001b[0m\u001b[0mnr\u001b[0m\u001b[0;34m=\u001b[0m\u001b[0mnr\u001b[0m\u001b[0;34m,\u001b[0m\u001b[0mexactNr\u001b[0m\u001b[0;34m=\u001b[0m\u001b[0mexactNr\u001b[0m\u001b[0;34m)\u001b[0m\u001b[0;34m\u001b[0m\u001b[0m\n\u001b[0m\u001b[1;32m    275\u001b[0m         \u001b[0;32mif\u001b[0m \u001b[0mlen\u001b[0m\u001b[0;34m(\u001b[0m\u001b[0mkwArgs\u001b[0m\u001b[0;34m)\u001b[0m\u001b[0;34m>\u001b[0m\u001b[0;36m0\u001b[0m\u001b[0;34m:\u001b[0m\u001b[0;34m\u001b[0m\u001b[0m\n\u001b[1;32m    276\u001b[0m             \u001b[0mself\u001b[0m\u001b[0;34m.\u001b[0m\u001b[0mparser\u001b[0m\u001b[0;34m.\u001b[0m\u001b[0mprocessKeywordArguments\u001b[0m\u001b[0;34m(\u001b[0m\u001b[0mkwArgs\u001b[0m\u001b[0;34m)\u001b[0m\u001b[0;34m\u001b[0m\u001b[0m\n",
      "\u001b[0;32m/opt/foam/foam-extend-4.0/ThirdParty/packages/PyFoam-0.6.4/platforms/noarch/lib/python2.7/site-packages/PyFoam/Basics/FoamOptionParser.py\u001b[0m in \u001b[0;36mparse\u001b[0;34m(self, nr, exactNr)\u001b[0m\n\u001b[1;32m    115\u001b[0m         \u001b[0;36m3\u001b[0m \u001b[0;32mis\u001b[0m \u001b[0mdefault\u001b[0m \u001b[0;32mfor\u001b[0m \u001b[0mpre\u001b[0m\u001b[0;34m-\u001b[0m\u001b[0;36m1.5\u001b[0m \u001b[0mversions\u001b[0m \u001b[0mof\u001b[0m \u001b[0mOpenFOAM\u001b[0m\u001b[0;34m\u001b[0m\u001b[0m\n\u001b[1;32m    116\u001b[0m         \"\"\"\n\u001b[0;32m--> 117\u001b[0;31m         \u001b[0;34m(\u001b[0m\u001b[0mself\u001b[0m\u001b[0;34m.\u001b[0m\u001b[0moptions\u001b[0m\u001b[0;34m,\u001b[0m\u001b[0mself\u001b[0m\u001b[0;34m.\u001b[0m\u001b[0margs\u001b[0m\u001b[0;34m)\u001b[0m\u001b[0;34m=\u001b[0m\u001b[0mself\u001b[0m\u001b[0;34m.\u001b[0m\u001b[0mparse_args\u001b[0m\u001b[0;34m(\u001b[0m\u001b[0margs\u001b[0m\u001b[0;34m=\u001b[0m\u001b[0mself\u001b[0m\u001b[0;34m.\u001b[0m\u001b[0margLine\u001b[0m\u001b[0;34m)\u001b[0m\u001b[0;34m\u001b[0m\u001b[0m\n\u001b[0m\u001b[1;32m    118\u001b[0m \u001b[0;34m\u001b[0m\u001b[0m\n\u001b[1;32m    119\u001b[0m         \u001b[0;32mif\u001b[0m \u001b[0;34m\"foamVersion\"\u001b[0m \u001b[0;32min\u001b[0m \u001b[0mdir\u001b[0m\u001b[0;34m(\u001b[0m\u001b[0mself\u001b[0m\u001b[0;34m.\u001b[0m\u001b[0moptions\u001b[0m\u001b[0;34m)\u001b[0m\u001b[0;34m:\u001b[0m\u001b[0;34m\u001b[0m\u001b[0m\n",
      "\u001b[0;32m/usr/lib/python3.5/optparse.py\u001b[0m in \u001b[0;36mparse_args\u001b[0;34m(self, args, values)\u001b[0m\n\u001b[1;32m   1366\u001b[0m         \u001b[0mover\u001b[0m \u001b[0mafter\u001b[0m \u001b[0mparsing\u001b[0m \u001b[0moptions\u001b[0m\u001b[0;34m.\u001b[0m\u001b[0;34m\u001b[0m\u001b[0m\n\u001b[1;32m   1367\u001b[0m         \"\"\"\n\u001b[0;32m-> 1368\u001b[0;31m         \u001b[0mrargs\u001b[0m \u001b[0;34m=\u001b[0m \u001b[0mself\u001b[0m\u001b[0;34m.\u001b[0m\u001b[0m_get_args\u001b[0m\u001b[0;34m(\u001b[0m\u001b[0margs\u001b[0m\u001b[0;34m)\u001b[0m\u001b[0;34m\u001b[0m\u001b[0m\n\u001b[0m\u001b[1;32m   1369\u001b[0m         \u001b[0;32mif\u001b[0m \u001b[0mvalues\u001b[0m \u001b[0;32mis\u001b[0m \u001b[0;32mNone\u001b[0m\u001b[0;34m:\u001b[0m\u001b[0;34m\u001b[0m\u001b[0m\n\u001b[1;32m   1370\u001b[0m             \u001b[0mvalues\u001b[0m \u001b[0;34m=\u001b[0m \u001b[0mself\u001b[0m\u001b[0;34m.\u001b[0m\u001b[0mget_default_values\u001b[0m\u001b[0;34m(\u001b[0m\u001b[0;34m)\u001b[0m\u001b[0;34m\u001b[0m\u001b[0m\n",
      "\u001b[0;32m/usr/lib/python3.5/optparse.py\u001b[0m in \u001b[0;36m_get_args\u001b[0;34m(self, args)\u001b[0m\n\u001b[1;32m   1350\u001b[0m             \u001b[0;32mreturn\u001b[0m \u001b[0msys\u001b[0m\u001b[0;34m.\u001b[0m\u001b[0margv\u001b[0m\u001b[0;34m[\u001b[0m\u001b[0;36m1\u001b[0m\u001b[0;34m:\u001b[0m\u001b[0;34m]\u001b[0m\u001b[0;34m\u001b[0m\u001b[0m\n\u001b[1;32m   1351\u001b[0m         \u001b[0;32melse\u001b[0m\u001b[0;34m:\u001b[0m\u001b[0;34m\u001b[0m\u001b[0m\n\u001b[0;32m-> 1352\u001b[0;31m             \u001b[0;32mreturn\u001b[0m \u001b[0margs\u001b[0m\u001b[0;34m[\u001b[0m\u001b[0;34m:\u001b[0m\u001b[0;34m]\u001b[0m              \u001b[0;31m# don't modify caller's list\u001b[0m\u001b[0;34m\u001b[0m\u001b[0m\n\u001b[0m\u001b[1;32m   1353\u001b[0m \u001b[0;34m\u001b[0m\u001b[0m\n\u001b[1;32m   1354\u001b[0m     \u001b[0;32mdef\u001b[0m \u001b[0mparse_args\u001b[0m\u001b[0;34m(\u001b[0m\u001b[0mself\u001b[0m\u001b[0;34m,\u001b[0m \u001b[0margs\u001b[0m\u001b[0;34m=\u001b[0m\u001b[0;32mNone\u001b[0m\u001b[0;34m,\u001b[0m \u001b[0mvalues\u001b[0m\u001b[0;34m=\u001b[0m\u001b[0;32mNone\u001b[0m\u001b[0;34m)\u001b[0m\u001b[0;34m:\u001b[0m\u001b[0;34m\u001b[0m\u001b[0m\n",
      "\u001b[0;31mTypeError\u001b[0m: 'map' object is not subscriptable"
     ]
    }
   ],
   "source": [
    "case.boundaryConditions()%%!"
   ]
  },
  {
   "cell_type": "code",
   "execution_count": null,
   "metadata": {
    "pyFoam": {
     "classes": [
      "report"
     ]
    }
   },
   "outputs": [],
   "source": [
    "case.boundaryConditions(level=3)"
   ]
  },
  {
   "cell_type": "code",
   "execution_count": null,
   "metadata": {
    "pyFoam": {
     "classes": [
      "report"
     ]
    }
   },
   "outputs": [],
   "source": [
    "case.dimensions(level=3)"
   ]
  },
  {
   "cell_type": "code",
   "execution_count": 1,
   "metadata": {
    "pyFoam": {
     "classes": [
      "report"
     ]
    }
   },
   "outputs": [
    {
     "ename": "NameError",
     "evalue": "name 'case' is not defined",
     "output_type": "error",
     "traceback": [
      "\u001b[0;31m---------------------------------------------------------------------------\u001b[0m",
      "\u001b[0;31mNameError\u001b[0m                                 Traceback (most recent call last)",
      "\u001b[0;32m<ipython-input-1-439807387e1f>\u001b[0m in \u001b[0;36m<module>\u001b[0;34m\u001b[0m\n\u001b[0;32m----> 1\u001b[0;31m \u001b[0mcase\u001b[0m\u001b[0;34m.\u001b[0m\u001b[0minternalField\u001b[0m\u001b[0;34m(\u001b[0m\u001b[0mlevel\u001b[0m\u001b[0;34m=\u001b[0m\u001b[0;36m3\u001b[0m\u001b[0;34m)\u001b[0m\u001b[0;34m\u001b[0m\u001b[0m\n\u001b[0m\u001b[1;32m      2\u001b[0m \u001b[0mcase\u001b[0m\u001b[0;34m.\u001b[0m\u001b[0mN\u001b[0m\u001b[0;34m\u001b[0m\u001b[0m\n",
      "\u001b[0;31mNameError\u001b[0m: name 'case' is not defined"
     ]
    }
   ],
   "source": [
    "case.internalField(level=3)\n",
    "case.N"
   ]
  },
  {
   "cell_type": "markdown",
   "metadata": {
    "pyFoam": {
     "classes": [
      "heading"
     ]
    }
   },
   "source": [
    "# Postprocessing data"
   ]
  },
  {
   "cell_type": "markdown",
   "metadata": {
    "pyFoam": {
     "classes": [
      "info"
     ]
    }
   },
   "source": [
    "Pickled data files"
   ]
  },
  {
   "cell_type": "code",
   "execution_count": null,
   "metadata": {
    "pyFoam": {
     "classes": [
      "info"
     ]
    }
   },
   "outputs": [],
   "source": [
    "case.sol.pickledData"
   ]
  },
  {
   "cell_type": "markdown",
   "metadata": {
    "pyFoam": {
     "classes": [
      "info"
     ]
    }
   },
   "source": [
    "Pickled plot files"
   ]
  },
  {
   "cell_type": "code",
   "execution_count": null,
   "metadata": {
    "pyFoam": {
     "classes": [
      "info"
     ]
    }
   },
   "outputs": [],
   "source": [
    "case.sol.pickledPlots"
   ]
  },
  {
   "cell_type": "markdown",
   "metadata": {
    "pyFoam": {
     "classes": [
      "heading",
      "selector"
     ]
    }
   },
   "source": [
    "### Data selectors"
   ]
  },
  {
   "cell_type": "code",
   "execution_count": null,
   "metadata": {
    "pyFoam": {
     "classes": [
      "selector"
     ]
    }
   },
   "outputs": [],
   "source": [
    "case.pickledPlotSelector()"
   ]
  },
  {
   "cell_type": "code",
   "execution_count": null,
   "metadata": {
    "pyFoam": {
     "classes": [
      "selector"
     ]
    }
   },
   "outputs": [],
   "source": [
    "case.pickledDataSelector()"
   ]
  },
  {
   "cell_type": "markdown",
   "metadata": {
    "pyFoam": {
     "classes": [
      "heading"
     ]
    }
   },
   "source": [
    "# User evaluations"
   ]
  },
  {
   "cell_type": "markdown",
   "metadata": {
    "pyFoam": {
     "classes": [
      "comment"
     ]
    }
   },
   "source": [
    "Now add your own stuff"
   ]
  }
 ],
 "metadata": {
  "kernelspec": {
   "display_name": "Python 3",
   "language": "python",
   "name": "python3"
  },
  "language_info": {
   "codemirror_mode": {
    "name": "ipython",
    "version": 3
   },
   "file_extension": ".py",
   "mimetype": "text/x-python",
   "name": "python",
   "nbconvert_exporter": "python",
   "pygments_lexer": "ipython3",
   "version": "3.5.2"
  },
  "pyFoam": {
   "createdBy": "pyFoam",
   "createdTime": "Tue Jun  4 22:43:01 2019",
   "description": "Created by pyFoamIPythonNotebook.py",
   "modificationTime": "Tue Jun  4 22:43:01 2019",
   "storedData": {}
  }
 },
 "nbformat": 4,
 "nbformat_minor": 1
}
